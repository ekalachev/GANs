{
 "cells": [
  {
   "cell_type": "markdown",
   "metadata": {},
   "source": [
    "# Generative Adversarial Network (GANs)"
   ]
  },
  {
   "cell_type": "code",
   "execution_count": 1,
   "metadata": {},
   "outputs": [],
   "source": [
    "import tensorflow as tf\n",
    "import matplotlib.pyplot as plt\n",
    "import numpy as np\n",
    "import time\n",
    "import datetime, os"
   ]
  },
  {
   "cell_type": "code",
   "execution_count": 2,
   "metadata": {},
   "outputs": [
    {
     "data": {
      "text/plain": [
       "[PhysicalDevice(name='/physical_device:GPU:0', device_type='GPU')]"
      ]
     },
     "execution_count": 2,
     "metadata": {},
     "output_type": "execute_result"
    }
   ],
   "source": [
    "physical_devices = tf.config.list_physical_devices('GPU')\n",
    "\n",
    "if len(physical_devices) > 0:\n",
    "    tf.config.experimental.set_memory_growth(physical_devices[0], True)\n",
    "\n",
    "physical_devices"
   ]
  },
  {
   "cell_type": "code",
   "execution_count": 3,
   "metadata": {},
   "outputs": [
    {
     "name": "stdout",
     "output_type": "stream",
     "text": [
      "D:\\Projects\\Jupyter\\logs\n"
     ]
    }
   ],
   "source": [
    "# setup logs\n",
    "log_dir = os.path.abspath('logs')\n",
    "log_writer = tf.summary.create_file_writer(log_dir)\n",
    "print(log_dir)\n",
    "\n",
    "%load_ext tensorboard"
   ]
  },
  {
   "cell_type": "code",
   "execution_count": 4,
   "metadata": {},
   "outputs": [],
   "source": [
    "(train_images, train_labels), (test_images, test_labels) = tf.keras.datasets.mnist.load_data()"
   ]
  },
  {
   "cell_type": "code",
   "execution_count": 5,
   "metadata": {},
   "outputs": [
    {
     "data": {
      "text/plain": [
       "<matplotlib.image.AxesImage at 0x1a1d5c9b688>"
      ]
     },
     "execution_count": 5,
     "metadata": {},
     "output_type": "execute_result"
    },
    {
     "data": {
      "image/png": "[encoded data removed]",
      "text/plain": [
       "<Figure size 432x288 with 1 Axes>"
      ]
     },
     "metadata": {
      "needs_background": "light"
     },
     "output_type": "display_data"
    }
   ],
   "source": [
    "plt.imshow(train_images[0])"
   ]
  },
  {
   "cell_type": "code",
   "execution_count": 6,
   "metadata": {},
   "outputs": [],
   "source": [
    "# reshape images\n",
    "train_images = train_images.reshape(train_images.shape[0],28,28,1)"
   ]
  },
  {
   "cell_type": "code",
   "execution_count": 7,
   "metadata": {},
   "outputs": [],
   "source": [
    "# normalize images\n",
    "train_images = (train_images-127.5)/127.5"
   ]
  },
  {
   "cell_type": "code",
   "execution_count": 8,
   "metadata": {},
   "outputs": [],
   "source": [
    "BUFFER_SIZE = train_images.shape[0]\n",
    "BATCH_SIZE = 100\n",
    "train_dataset = tf.data.Dataset.from_tensor_slices(train_images).shuffle(BUFFER_SIZE).batch(BATCH_SIZE)"
   ]
  },
  {
   "cell_type": "markdown",
   "metadata": {},
   "source": [
    "## Discriminator Model"
   ]
  },
  {
   "cell_type": "code",
   "execution_count": 9,
   "metadata": {},
   "outputs": [],
   "source": [
    "def build_discriminator_model():\n",
    "    return tf.keras.Sequential([\n",
    "        tf.keras.layers.Conv2D(7, (3,3), padding='same', input_shape=(28,28,1)),\n",
    "        tf.keras.layers.Flatten(),\n",
    "        tf.keras.layers.LeakyReLU(),\n",
    "        tf.keras.layers.Dense(50, activation='relu'),\n",
    "        tf.keras.layers.Dense(1)\n",
    "    ])"
   ]
  },
  {
   "cell_type": "code",
   "execution_count": 10,
   "metadata": {},
   "outputs": [],
   "source": [
    "model_discriminator = build_discriminator_model()"
   ]
  },
  {
   "cell_type": "code",
   "execution_count": 11,
   "metadata": {},
   "outputs": [
    {
     "data": {
      "text/plain": [
       "<tf.Tensor: shape=(1, 1), dtype=float32, numpy=array([[0.08098321]], dtype=float32)>"
      ]
     },
     "execution_count": 11,
     "metadata": {},
     "output_type": "execute_result"
    }
   ],
   "source": [
    "model_discriminator(np.random.rand(1,28,28,1).astype(\"float32\"))"
   ]
  },
  {
   "cell_type": "code",
   "execution_count": 12,
   "metadata": {},
   "outputs": [],
   "source": [
    "discriminator_optimizer = tf.optimizers.Adam(1e-3)"
   ]
  },
  {
   "cell_type": "code",
   "execution_count": 13,
   "metadata": {},
   "outputs": [],
   "source": [
    "def get_discriminator_loss(real_predictions, fake_predictions):\n",
    "    real_predictions = tf.sigmoid(real_predictions)\n",
    "    fake_predictions = tf.sigmoid(fake_predictions)\n",
    "    real_loss = tf.losses.binary_crossentropy(tf.ones_like(real_predictions), real_predictions)\n",
    "    fake_loss = tf.losses.binary_crossentropy(tf.zeros_like(fake_predictions), fake_predictions)\n",
    "    return fake_loss + real_loss"
   ]
  },
  {
   "cell_type": "markdown",
   "metadata": {},
   "source": [
    "## Generator"
   ]
  },
  {
   "cell_type": "code",
   "execution_count": 14,
   "metadata": {},
   "outputs": [],
   "source": [
    "def build_generator_model():\n",
    "    model = tf.keras.Sequential([\n",
    "        tf.keras.layers.Dense(7*7*256, input_shape=(100,)),\n",
    "        tf.keras.layers.BatchNormalization(),\n",
    "        tf.keras.layers.Reshape((7,7,256)),\n",
    "        tf.keras.layers.Conv2DTranspose(128, (3,3), padding='same'),\n",
    "        tf.keras.layers.BatchNormalization(),\n",
    "        tf.keras.layers.Conv2DTranspose(64, (3,3), strides=(2,2), padding='same'),\n",
    "        tf.keras.layers.BatchNormalization(),\n",
    "        tf.keras.layers.Conv2DTranspose(1, (3,3), strides=(2,2), padding='same')\n",
    "    ])\n",
    "    \n",
    "    return model"
   ]
  },
  {
   "cell_type": "code",
   "execution_count": 15,
   "metadata": {},
   "outputs": [],
   "source": [
    "model_generator = build_generator_model()"
   ]
  },
  {
   "cell_type": "code",
   "execution_count": 16,
   "metadata": {},
   "outputs": [],
   "source": [
    "generator_optimizer = tf.optimizers.Adam(1e-4)"
   ]
  },
  {
   "cell_type": "code",
   "execution_count": 17,
   "metadata": {},
   "outputs": [],
   "source": [
    "def get_generator_loss(fake_predictions):\n",
    "    fake_predictions = tf.sigmoid(fake_predictions)\n",
    "    fake_loss = tf.losses.binary_crossentropy(tf.ones_like(fake_predictions), fake_predictions)\n",
    "    return fake_loss"
   ]
  },
  {
   "cell_type": "markdown",
   "metadata": {},
   "source": [
    "## Training"
   ]
  },
  {
   "cell_type": "code",
   "execution_count": 18,
   "metadata": {},
   "outputs": [],
   "source": [
    "def train_step(images):\n",
    "    fake_image_noise = np.random.randn(BATCH_SIZE, 100).astype('float32')\n",
    "    \n",
    "    with tf.GradientTape() as gen_tape, tf.GradientTape() as disc_tape:\n",
    "        generated_images = model_generator(fake_image_noise)\n",
    "        \n",
    "        real_output = model_discriminator(images)\n",
    "        fake_output = model_discriminator(generated_images)\n",
    "        \n",
    "        gen_loss = get_generator_loss(fake_output)\n",
    "        disc_loss = get_discriminator_loss(real_output, fake_output)\n",
    "        \n",
    "        gradients_of_generator = gen_tape.gradient(gen_loss, model_generator.trainable_variables)\n",
    "        gradients_of_discriminator = disc_tape.gradient(disc_loss, model_discriminator.trainable_variables)\n",
    "        \n",
    "        generator_optimizer.apply_gradients(zip(gradients_of_generator, model_generator.trainable_variables))\n",
    "        discriminator_optimizer.apply_gradients(zip(gradients_of_discriminator, model_discriminator.trainable_variables))\n",
    "        \n",
    "        return generated_images, np.mean(gen_loss), np.mean(disc_loss)"
   ]
  },
  {
   "cell_type": "code",
   "execution_count": 19,
   "metadata": {},
   "outputs": [],
   "source": [
    "def train(dataset, epochs, log_writer):\n",
    "    iterations_count = 0\n",
    "    \n",
    "    with log_writer.as_default():\n",
    "        for _ in range(epochs):\n",
    "            for images in dataset:\n",
    "                iterations_count += 1\n",
    "                images = tf.cast(images, tf.dtypes.float32)\n",
    "\n",
    "                generated_images, generator_loss, discriminator_loss = train_step(images)\n",
    "                \n",
    "                step = tf.cast(iterations_count, tf.int64)\n",
    "\n",
    "                tf.summary.scalar('Generator Loss', generator_loss, step=step)\n",
    "                tf.summary.scalar('Discriminator Loss', discriminator_loss, step=step)\n",
    "                \n",
    "                tf.summary.image('Generated', tf.cast(255 * (generated_images + 1.0) / 2.0, tf.uint8), step=step)\n",
    "\n",
    "                log_writer.flush()"
   ]
  },
  {
   "cell_type": "code",
   "execution_count": 28,
   "metadata": {},
   "outputs": [
    {
     "data": {
      "text/plain": [
       "Reusing TensorBoard on port 6006 (pid 5720), started 14:04:41 ago. (Use '!kill 5720' to kill it.)"
      ]
     },
     "metadata": {},
     "output_type": "display_data"
    },
    {
     "data": {
      "text/html": [
       "\n",
       "      <iframe id=\"tensorboard-frame-f7fe0d064b68e6e8\" width=\"100%\" height=\"800\" frameborder=\"0\">\n",
       "      </iframe>\n",
       "      <script>\n",
       "        (function() {\n",
       "          const frame = document.getElementById(\"tensorboard-frame-f7fe0d064b68e6e8\");\n",
       "          const url = new URL(\"/\", window.location);\n",
       "          url.port = 6006;\n",
       "          frame.src = url;\n",
       "        })();\n",
       "      </script>\n",
       "  "
      ],
      "text/plain": [
       "<IPython.core.display.HTML object>"
      ]
     },
     "metadata": {},
     "output_type": "display_data"
    }
   ],
   "source": [
    "# show logs\n",
    "%tensorboard --logdir log_dir"
   ]
  },
  {
   "cell_type": "code",
   "execution_count": 21,
   "metadata": {},
   "outputs": [],
   "source": [
    "train(train_dataset, 5, log_writer)"
   ]
  },
  {
   "cell_type": "code",
   "execution_count": 27,
   "metadata": {},
   "outputs": [
    {
     "data": {
      "image/png": "[encoded data removed]",
      "text/plain": [
       "<Figure size 216x216 with 9 Axes>"
      ]
     },
     "metadata": {
      "needs_background": "light"
     },
     "output_type": "display_data"
    }
   ],
   "source": [
    "num_row = 3\n",
    "num_col = 3\n",
    "\n",
    "fig, axes = plt.subplots(num_row, num_col, figsize=(num_col,num_row))\n",
    "\n",
    "for i in range(num_row * num_col):\n",
    "    ax = axes[i//num_col, i%num_col]\n",
    "    ax.imshow(tf.reshape(model_generator(np.random.randn(1,100)), (28,28)), cmap='gray')\n",
    "plt.tight_layout()\n",
    "plt.show()"
   ]
  },
  {
   "cell_type": "code",
   "execution_count": null,
   "metadata": {},
   "outputs": [],
   "source": []
  }
 ],
 "metadata": {
  "kernelspec": {
   "display_name": "Python 3",
   "language": "python",
   "name": "python3"
  },
  "language_info": {
   "codemirror_mode": {
    "name": "ipython",
    "version": 3
   },
   "file_extension": ".py",
   "mimetype": "text/x-python",
   "name": "python",
   "nbconvert_exporter": "python",
   "pygments_lexer": "ipython3",
   "version": "3.7.7"
  }
 },
 "nbformat": 4,
 "nbformat_minor": 4
}
